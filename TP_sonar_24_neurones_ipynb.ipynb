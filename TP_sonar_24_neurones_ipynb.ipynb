{
  "nbformat": 4,
  "nbformat_minor": 0,
  "metadata": {
    "colab": {
      "name": "TP sonar 24 neurones. ipynb",
      "provenance": [],
      "authorship_tag": "ABX9TyOBvLvIXikRWmulsP3PgnOj",
      "include_colab_link": true
    },
    "kernelspec": {
      "name": "python3",
      "display_name": "Python 3"
    }
  },
  "cells": [
    {
      "cell_type": "markdown",
      "metadata": {
        "id": "view-in-github",
        "colab_type": "text"
      },
      "source": [
        "<a href=\"https://colab.research.google.com/github/BalkisG77/Deep-Learning-/blob/main/TP_sonar_24_neurones_ipynb.ipynb\" target=\"_parent\"><img src=\"https://colab.research.google.com/assets/colab-badge.svg\" alt=\"Open In Colab\"/></a>"
      ]
    },
    {
      "cell_type": "code",
      "metadata": {
        "id": "Z0Dyj5JZtEtS"
      },
      "source": [
        "import pandas as pnd\n",
        "observations = pnd.read_csv(\"/content/sonar.all-data.csv\")"
      ],
      "execution_count": 1,
      "outputs": []
    },
    {
      "cell_type": "markdown",
      "metadata": {
        "id": "4_ZU_ETJxtBb"
      },
      "source": [
        "PREPARATION DES DONNEES"
      ]
    },
    {
      "cell_type": "code",
      "metadata": {
        "colab": {
          "base_uri": "https://localhost:8080/"
        },
        "id": "mgqzzZyHxsnv",
        "outputId": "2f34ab0e-7d7b-4e07-d22e-38b9f01f2d3b"
      },
      "source": [
        "print(\"Nbr colonnes: \",len(observations.columns))\n",
        "#On ne prend que les données issues du sonar pour l'apprentissage\n",
        "X = observations[observations.columns[0:60]].values\n",
        "\n",
        "#On ne prend que les libellé\n",
        "y = observations[observations.columns[60]]\n",
        "\n",
        "#On encode : Les mines sont égales à 0 et les rochers égaux à 1\n",
        "from sklearn.preprocessing import LabelEncoder\n",
        "encoder = LabelEncoder()\n",
        "encoder.fit(y)\n",
        "y = encoder.transform(y)\n",
        "\n",
        "#On ajoute un encodage pour créer des classes :\n",
        "# Si c'est une mine [1,0]\n",
        "# Si c'est un rocher [0,1]\n",
        "import numpy as np\n",
        "n_labels = len(y)\n",
        "n_unique_labels = len(np.unique(y))\n",
        "one_hot_encode = np.zeros((n_labels,n_unique_labels))\n",
        "one_hot_encode[np.arange(n_labels),y] = 1\n",
        "Y=one_hot_encode\n",
        "\n",
        "#Verification en prenant les enregistrement 0 et 97\n",
        "print(\"Classe Rocher:\",int(Y[0][1]))\n",
        "print(\"Classe Mine :\",int(Y[97][1]))\n"
      ],
      "execution_count": 2,
      "outputs": [
        {
          "output_type": "stream",
          "text": [
            "Nbr colonnes:  61\n",
            "Classe Rocher: 1\n",
            "Classe Mine : 0\n"
          ],
          "name": "stdout"
        }
      ]
    },
    {
      "cell_type": "markdown",
      "metadata": {
        "id": "bvvVzI_-x3kE"
      },
      "source": [
        "CREATION DES JEUX D'APPRENTISSAGE ET DE TEST"
      ]
    },
    {
      "cell_type": "code",
      "metadata": {
        "id": "gBPAj39IxrYG"
      },
      "source": [
        "#On mélange\n",
        "from sklearn.utils import shuffle\n",
        "X, Y = shuffle(X, Y, random_state=1)\n",
        "\n",
        "#Creation des jeux d'apprentissage\n",
        "from sklearn.model_selection import train_test_split\n",
        "train_x, test_x, train_y, test_y = train_test_split(X, Y, test_size=0.07, random_state=42)"
      ],
      "execution_count": 3,
      "outputs": []
    },
    {
      "cell_type": "markdown",
      "metadata": {
        "id": "5uK0l6Xux9YA"
      },
      "source": [
        "# PARAMETRAGE DU RESEAU DE  NEURONES"
      ]
    },
    {
      "cell_type": "code",
      "metadata": {
        "colab": {
          "base_uri": "https://localhost:8080/"
        },
        "id": "iY7SqbHPx7O0",
        "outputId": "9db25b7e-6f7f-4542-fc95-6d219be40713"
      },
      "source": [
        "import tensorflow.compat.v1 as tf\n",
        "tf.disable_v2_behavior()\n",
        "\n",
        "epochs = 300\n",
        "nombre_neurones_entree = 60\n",
        "nombre_neurones_sortie = 2\n",
        "taux_apprentissage = 0.01\n",
        "\n",
        "#Variable TensorFLow correspondant aux 60 valeurs des neurones d'entrée\n",
        "tf_neurones_entrees_X = tf.placeholder(tf.float32,[None, 60])\n",
        "\n",
        "#Variable TensorFlow correspondant au 2 neurones de sortie\n",
        "tf_valeurs_reelles_Y = tf.placeholder(tf.float32,[None, 2])\n",
        "\n",
        "\n",
        "poids = {\n",
        "    # 60 neurones d'entrées vers 24 Neurones de la couche cachée\n",
        "    'couche_entree_vers_cachee': tf.Variable(tf.random_uniform([60, 24], minval=-0.3, maxval=0.3), tf.float32),\n",
        "\n",
        "    # 24 neurones de la couche cachée vers 2 de la couche de sortie\n",
        "    'couche_cachee_vers_sortie': tf.Variable(tf.random_uniform([24, 2], minval=-0.3, maxval=0.3), tf.float32),\n",
        "}\n",
        "\n",
        "poids_biais = {\n",
        "     #1 biais de la couche d'entrée vers les 24 neurones de la couche cachée\n",
        "    'poids_biais_couche_entree_vers_cachee': tf.Variable(tf.zeros([24]), tf.float32),\n",
        "\n",
        "    #1 biais de la couche cachée vers les 2 neurones de la couche de sortie\n",
        "    'poids_biais_couche_cachee_vers_sortie': tf.Variable(tf.zeros([2]), tf.float32),\n",
        "}\n"
      ],
      "execution_count": 5,
      "outputs": [
        {
          "output_type": "stream",
          "text": [
            "WARNING:tensorflow:From /usr/local/lib/python3.7/dist-packages/tensorflow/python/compat/v2_compat.py:96: disable_resource_variables (from tensorflow.python.ops.variable_scope) is deprecated and will be removed in a future version.\n",
            "Instructions for updating:\n",
            "non-resource variables are not supported in the long term\n"
          ],
          "name": "stdout"
        }
      ]
    },
    {
      "cell_type": "markdown",
      "metadata": {
        "id": "GZFzbBtByUMC"
      },
      "source": [
        "# FONCTION DE  CREATION DU RESEAU DE NEURONES"
      ]
    },
    {
      "cell_type": "code",
      "metadata": {
        "id": "SQQwrMYqyCNR"
      },
      "source": [
        "def reseau_neurones_multicouches(observations_en_entrees, poids, poids_biais):\n",
        "\n",
        "    #Calcul de l'activation de la première couche\n",
        "    premiere_activation = tf.sigmoid(tf.matmul(tf_neurones_entrees_X, poids['couche_entree_vers_cachee']) + poids_biais['poids_biais_couche_entree_vers_cachee'])\n",
        "\n",
        "    #Calcul de l'activation de la seconde couche\n",
        "    activation_couche_cachee = tf.sigmoid(tf.matmul(premiere_activation, poids['couche_cachee_vers_sortie']) + poids_biais['poids_biais_couche_cachee_vers_sortie'])\n",
        "\n",
        "    return activation_couche_cachee"
      ],
      "execution_count": 6,
      "outputs": []
    },
    {
      "cell_type": "markdown",
      "metadata": {
        "id": "yhD1xDdlyXxh"
      },
      "source": [
        "# CREATION DU RESEAU DE NEURONES"
      ]
    },
    {
      "cell_type": "code",
      "metadata": {
        "id": "6JRBMPFSyXBT"
      },
      "source": [
        "reseau = reseau_neurones_multicouches(tf_neurones_entrees_X, poids, poids_biais)"
      ],
      "execution_count": 7,
      "outputs": []
    },
    {
      "cell_type": "markdown",
      "metadata": {
        "id": "Cvw468zLydDA"
      },
      "source": [
        "# ERREUR ET OPTIMISATION"
      ]
    },
    {
      "cell_type": "code",
      "metadata": {
        "id": "BjBg30yPyeu6"
      },
      "source": [
        "#Fonction d'erreur de moyenne quadratique MSE\n",
        "fonction_erreur = tf.reduce_sum(tf.pow(tf_valeurs_reelles_Y-reseau,2))\n",
        "\n",
        "#Descente de gradient avec un taux d'apprentissage fixé à 0.1\n",
        "optimiseur = tf.train.GradientDescentOptimizer(learning_rate=taux_apprentissage).minimize(fonction_erreur)"
      ],
      "execution_count": 8,
      "outputs": []
    },
    {
      "cell_type": "markdown",
      "metadata": {
        "id": "xEeTHVvRyhL4"
      },
      "source": [
        "# APPRENTISSAGE"
      ]
    },
    {
      "cell_type": "code",
      "metadata": {
        "id": "DY-ywPSoylfu"
      },
      "source": [
        "#Initialisation des variable\n",
        "init = tf.global_variables_initializer()\n",
        "\n",
        "#Demarrage d'une session d'apprentissage\n",
        "session = tf.Session()\n",
        "session.run(init)\n",
        "\n",
        "#Pour la réalisation du graphique pour la MSE\n",
        "Graphique_MSE=[]\n"
      ],
      "execution_count": 9,
      "outputs": []
    },
    {
      "cell_type": "code",
      "metadata": {
        "colab": {
          "base_uri": "https://localhost:8080/",
          "height": 1000
        },
        "id": "RGCSd351yokn",
        "outputId": "6d17486e-3a3f-4f93-9a22-bb6f52a35ba5"
      },
      "source": [
        "#Pour chaque epoch\n",
        "for i in range(epochs):\n",
        "\n",
        "   #Realisation de l'apprentissage avec mise à jour des poids\n",
        "   session.run(optimiseur, feed_dict = {tf_neurones_entrees_X: train_x, tf_valeurs_reelles_Y:train_y})\n",
        "\n",
        "   #Calculer l'erreur\n",
        "   MSE = session.run(fonction_erreur, feed_dict = {tf_neurones_entrees_X: train_x, tf_valeurs_reelles_Y:train_y})\n",
        "\n",
        "   #Affichage des informations\n",
        "   Graphique_MSE.append(MSE)\n",
        "   print(\"EPOCH (\" + str(i) + \"/\" + str(epochs) + \") -  MSE: \"+ str(MSE))\n",
        "\n",
        "\n",
        "#Affichage graphique\n",
        "import matplotlib.pyplot as plt\n",
        "plt.plot(Graphique_MSE)\n",
        "plt.ylabel('MSE')\n",
        "plt.show()"
      ],
      "execution_count": 10,
      "outputs": [
        {
          "output_type": "stream",
          "text": [
            "EPOCH (0/300) -  MSE: 96.86754\n",
            "EPOCH (1/300) -  MSE: 96.305466\n",
            "EPOCH (2/300) -  MSE: 95.76241\n",
            "EPOCH (3/300) -  MSE: 95.43127\n",
            "EPOCH (4/300) -  MSE: 95.101456\n",
            "EPOCH (5/300) -  MSE: 94.84491\n",
            "EPOCH (6/300) -  MSE: 94.58753\n",
            "EPOCH (7/300) -  MSE: 94.36059\n",
            "EPOCH (8/300) -  MSE: 94.13135\n",
            "EPOCH (9/300) -  MSE: 93.91531\n",
            "EPOCH (10/300) -  MSE: 93.695694\n",
            "EPOCH (11/300) -  MSE: 93.4812\n",
            "EPOCH (12/300) -  MSE: 93.26204\n",
            "EPOCH (13/300) -  MSE: 93.04375\n",
            "EPOCH (14/300) -  MSE: 92.81995\n",
            "EPOCH (15/300) -  MSE: 92.594604\n",
            "EPOCH (16/300) -  MSE: 92.36309\n",
            "EPOCH (17/300) -  MSE: 92.12866\n",
            "EPOCH (18/300) -  MSE: 91.88762\n",
            "EPOCH (19/300) -  MSE: 91.643036\n",
            "EPOCH (20/300) -  MSE: 91.39163\n",
            "EPOCH (21/300) -  MSE: 91.13678\n",
            "EPOCH (22/300) -  MSE: 90.87535\n",
            "EPOCH (23/300) -  MSE: 90.61166\n",
            "EPOCH (24/300) -  MSE: 90.342384\n",
            "EPOCH (25/300) -  MSE: 90.07407\n",
            "EPOCH (26/300) -  MSE: 89.80293\n",
            "EPOCH (27/300) -  MSE: 89.54064\n",
            "EPOCH (28/300) -  MSE: 89.2823\n",
            "EPOCH (29/300) -  MSE: 89.05227\n",
            "EPOCH (30/300) -  MSE: 88.842285\n",
            "EPOCH (31/300) -  MSE: 88.71022\n",
            "EPOCH (32/300) -  MSE: 88.63235\n",
            "EPOCH (33/300) -  MSE: 88.757324\n",
            "EPOCH (34/300) -  MSE: 88.977264\n",
            "EPOCH (35/300) -  MSE: 89.67406\n",
            "EPOCH (36/300) -  MSE: 90.31918\n",
            "EPOCH (37/300) -  MSE: 91.84744\n",
            "EPOCH (38/300) -  MSE: 92.33238\n",
            "EPOCH (39/300) -  MSE: 94.173996\n",
            "EPOCH (40/300) -  MSE: 93.26962\n",
            "EPOCH (41/300) -  MSE: 94.66841\n",
            "EPOCH (42/300) -  MSE: 92.69762\n",
            "EPOCH (43/300) -  MSE: 93.65689\n",
            "EPOCH (44/300) -  MSE: 91.571365\n",
            "EPOCH (45/300) -  MSE: 92.26534\n",
            "EPOCH (46/300) -  MSE: 90.3813\n",
            "EPOCH (47/300) -  MSE: 90.92454\n",
            "EPOCH (48/300) -  MSE: 89.26621\n",
            "EPOCH (49/300) -  MSE: 89.732735\n",
            "EPOCH (50/300) -  MSE: 88.26077\n",
            "EPOCH (51/300) -  MSE: 88.70099\n",
            "EPOCH (52/300) -  MSE: 87.368385\n",
            "EPOCH (53/300) -  MSE: 87.81755\n",
            "EPOCH (54/300) -  MSE: 86.58092\n",
            "EPOCH (55/300) -  MSE: 87.06379\n",
            "EPOCH (56/300) -  MSE: 85.88465\n",
            "EPOCH (57/300) -  MSE: 86.417854\n",
            "EPOCH (58/300) -  MSE: 85.26219\n",
            "EPOCH (59/300) -  MSE: 85.85545\n",
            "EPOCH (60/300) -  MSE: 84.69369\n",
            "EPOCH (61/300) -  MSE: 85.350914\n",
            "EPOCH (62/300) -  MSE: 84.1588\n",
            "EPOCH (63/300) -  MSE: 84.879326\n",
            "EPOCH (64/300) -  MSE: 83.63924\n",
            "EPOCH (65/300) -  MSE: 84.41962\n",
            "EPOCH (66/300) -  MSE: 83.12126\n",
            "EPOCH (67/300) -  MSE: 83.95697\n",
            "EPOCH (68/300) -  MSE: 82.59682\n",
            "EPOCH (69/300) -  MSE: 83.48361\n",
            "EPOCH (70/300) -  MSE: 82.0631\n",
            "EPOCH (71/300) -  MSE: 82.997665\n",
            "EPOCH (72/300) -  MSE: 81.52104\n",
            "EPOCH (73/300) -  MSE: 82.50101\n",
            "EPOCH (74/300) -  MSE: 80.97337\n",
            "EPOCH (75/300) -  MSE: 81.99706\n",
            "EPOCH (76/300) -  MSE: 80.42325\n",
            "EPOCH (77/300) -  MSE: 81.48927\n",
            "EPOCH (78/300) -  MSE: 79.87329\n",
            "EPOCH (79/300) -  MSE: 80.98027\n",
            "EPOCH (80/300) -  MSE: 79.32545\n",
            "EPOCH (81/300) -  MSE: 80.4718\n",
            "EPOCH (82/300) -  MSE: 78.78094\n",
            "EPOCH (83/300) -  MSE: 79.96483\n",
            "EPOCH (84/300) -  MSE: 78.24054\n",
            "EPOCH (85/300) -  MSE: 79.459885\n",
            "EPOCH (86/300) -  MSE: 77.70476\n",
            "EPOCH (87/300) -  MSE: 78.957306\n",
            "EPOCH (88/300) -  MSE: 77.17403\n",
            "EPOCH (89/300) -  MSE: 78.457405\n",
            "EPOCH (90/300) -  MSE: 76.64874\n",
            "EPOCH (91/300) -  MSE: 77.96053\n",
            "EPOCH (92/300) -  MSE: 76.12933\n",
            "EPOCH (93/300) -  MSE: 77.4671\n",
            "EPOCH (94/300) -  MSE: 75.616196\n",
            "EPOCH (95/300) -  MSE: 76.97754\n",
            "EPOCH (96/300) -  MSE: 75.10974\n",
            "EPOCH (97/300) -  MSE: 76.49228\n",
            "EPOCH (98/300) -  MSE: 74.61034\n",
            "EPOCH (99/300) -  MSE: 76.011765\n",
            "EPOCH (100/300) -  MSE: 74.118256\n",
            "EPOCH (101/300) -  MSE: 75.53636\n",
            "EPOCH (102/300) -  MSE: 73.633804\n",
            "EPOCH (103/300) -  MSE: 75.06643\n",
            "EPOCH (104/300) -  MSE: 73.157166\n",
            "EPOCH (105/300) -  MSE: 74.60225\n",
            "EPOCH (106/300) -  MSE: 72.68851\n",
            "EPOCH (107/300) -  MSE: 74.144104\n",
            "EPOCH (108/300) -  MSE: 72.227936\n",
            "EPOCH (109/300) -  MSE: 73.6922\n",
            "EPOCH (110/300) -  MSE: 71.77553\n",
            "EPOCH (111/300) -  MSE: 73.24673\n",
            "EPOCH (112/300) -  MSE: 71.331345\n",
            "EPOCH (113/300) -  MSE: 72.80786\n",
            "EPOCH (114/300) -  MSE: 70.89542\n",
            "EPOCH (115/300) -  MSE: 72.37575\n",
            "EPOCH (116/300) -  MSE: 70.4677\n",
            "EPOCH (117/300) -  MSE: 71.95047\n",
            "EPOCH (118/300) -  MSE: 70.0482\n",
            "EPOCH (119/300) -  MSE: 71.53215\n",
            "EPOCH (120/300) -  MSE: 69.63685\n",
            "EPOCH (121/300) -  MSE: 71.120834\n",
            "EPOCH (122/300) -  MSE: 69.2336\n",
            "EPOCH (123/300) -  MSE: 70.71658\n",
            "EPOCH (124/300) -  MSE: 68.83838\n",
            "EPOCH (125/300) -  MSE: 70.31943\n",
            "EPOCH (126/300) -  MSE: 68.45107\n",
            "EPOCH (127/300) -  MSE: 69.92936\n",
            "EPOCH (128/300) -  MSE: 68.071594\n",
            "EPOCH (129/300) -  MSE: 69.5464\n",
            "EPOCH (130/300) -  MSE: 67.699844\n",
            "EPOCH (131/300) -  MSE: 69.17055\n",
            "EPOCH (132/300) -  MSE: 67.33569\n",
            "EPOCH (133/300) -  MSE: 68.80173\n",
            "EPOCH (134/300) -  MSE: 66.97903\n",
            "EPOCH (135/300) -  MSE: 68.439926\n",
            "EPOCH (136/300) -  MSE: 66.629715\n",
            "EPOCH (137/300) -  MSE: 68.08508\n",
            "EPOCH (138/300) -  MSE: 66.28762\n",
            "EPOCH (139/300) -  MSE: 67.73713\n",
            "EPOCH (140/300) -  MSE: 65.95261\n",
            "EPOCH (141/300) -  MSE: 67.39599\n",
            "EPOCH (142/300) -  MSE: 65.62454\n",
            "EPOCH (143/300) -  MSE: 67.0616\n",
            "EPOCH (144/300) -  MSE: 65.303276\n",
            "EPOCH (145/300) -  MSE: 66.733826\n",
            "EPOCH (146/300) -  MSE: 64.98866\n",
            "EPOCH (147/300) -  MSE: 66.4126\n",
            "EPOCH (148/300) -  MSE: 64.68056\n",
            "EPOCH (149/300) -  MSE: 66.09781\n",
            "EPOCH (150/300) -  MSE: 64.378815\n",
            "EPOCH (151/300) -  MSE: 65.78934\n",
            "EPOCH (152/300) -  MSE: 64.0833\n",
            "EPOCH (153/300) -  MSE: 65.487076\n",
            "EPOCH (154/300) -  MSE: 63.793854\n",
            "EPOCH (155/300) -  MSE: 65.1909\n",
            "EPOCH (156/300) -  MSE: 63.510334\n",
            "EPOCH (157/300) -  MSE: 64.90068\n",
            "EPOCH (158/300) -  MSE: 63.232597\n",
            "EPOCH (159/300) -  MSE: 64.6163\n",
            "EPOCH (160/300) -  MSE: 62.960487\n",
            "EPOCH (161/300) -  MSE: 64.33762\n",
            "EPOCH (162/300) -  MSE: 62.69388\n",
            "EPOCH (163/300) -  MSE: 64.064514\n",
            "EPOCH (164/300) -  MSE: 62.43262\n",
            "EPOCH (165/300) -  MSE: 63.796852\n",
            "EPOCH (166/300) -  MSE: 62.176575\n",
            "EPOCH (167/300) -  MSE: 63.5345\n",
            "EPOCH (168/300) -  MSE: 61.92561\n",
            "EPOCH (169/300) -  MSE: 63.277336\n",
            "EPOCH (170/300) -  MSE: 61.679585\n",
            "EPOCH (171/300) -  MSE: 63.025204\n",
            "EPOCH (172/300) -  MSE: 61.43837\n",
            "EPOCH (173/300) -  MSE: 62.777992\n",
            "EPOCH (174/300) -  MSE: 61.201828\n",
            "EPOCH (175/300) -  MSE: 62.53557\n",
            "EPOCH (176/300) -  MSE: 60.96985\n",
            "EPOCH (177/300) -  MSE: 62.297806\n",
            "EPOCH (178/300) -  MSE: 60.7423\n",
            "EPOCH (179/300) -  MSE: 62.06457\n",
            "EPOCH (180/300) -  MSE: 60.51906\n",
            "EPOCH (181/300) -  MSE: 61.835747\n",
            "EPOCH (182/300) -  MSE: 60.3\n",
            "EPOCH (183/300) -  MSE: 61.611217\n",
            "EPOCH (184/300) -  MSE: 60.085022\n",
            "EPOCH (185/300) -  MSE: 61.390846\n",
            "EPOCH (186/300) -  MSE: 59.874016\n",
            "EPOCH (187/300) -  MSE: 61.174545\n",
            "EPOCH (188/300) -  MSE: 59.666862\n",
            "EPOCH (189/300) -  MSE: 60.962173\n",
            "EPOCH (190/300) -  MSE: 59.463463\n",
            "EPOCH (191/300) -  MSE: 60.753628\n",
            "EPOCH (192/300) -  MSE: 59.26371\n",
            "EPOCH (193/300) -  MSE: 60.54881\n",
            "EPOCH (194/300) -  MSE: 59.067513\n",
            "EPOCH (195/300) -  MSE: 60.34761\n",
            "EPOCH (196/300) -  MSE: 58.874763\n",
            "EPOCH (197/300) -  MSE: 60.149925\n",
            "EPOCH (198/300) -  MSE: 58.68538\n",
            "EPOCH (199/300) -  MSE: 59.955673\n",
            "EPOCH (200/300) -  MSE: 58.49927\n",
            "EPOCH (201/300) -  MSE: 59.76474\n",
            "EPOCH (202/300) -  MSE: 58.316353\n",
            "EPOCH (203/300) -  MSE: 59.57705\n",
            "EPOCH (204/300) -  MSE: 58.136536\n",
            "EPOCH (205/300) -  MSE: 59.392513\n",
            "EPOCH (206/300) -  MSE: 57.95974\n",
            "EPOCH (207/300) -  MSE: 59.211037\n",
            "EPOCH (208/300) -  MSE: 57.78588\n",
            "EPOCH (209/300) -  MSE: 59.03254\n",
            "EPOCH (210/300) -  MSE: 57.6149\n",
            "EPOCH (211/300) -  MSE: 58.856956\n",
            "EPOCH (212/300) -  MSE: 57.446716\n",
            "EPOCH (213/300) -  MSE: 58.6842\n",
            "EPOCH (214/300) -  MSE: 57.28125\n",
            "EPOCH (215/300) -  MSE: 58.514202\n",
            "EPOCH (216/300) -  MSE: 57.118454\n",
            "EPOCH (217/300) -  MSE: 58.3469\n",
            "EPOCH (218/300) -  MSE: 56.958244\n",
            "EPOCH (219/300) -  MSE: 58.182224\n",
            "EPOCH (220/300) -  MSE: 56.800568\n",
            "EPOCH (221/300) -  MSE: 58.020103\n",
            "EPOCH (222/300) -  MSE: 56.645363\n",
            "EPOCH (223/300) -  MSE: 57.86048\n",
            "EPOCH (224/300) -  MSE: 56.49256\n",
            "EPOCH (225/300) -  MSE: 57.7033\n",
            "EPOCH (226/300) -  MSE: 56.342117\n",
            "EPOCH (227/300) -  MSE: 57.548508\n",
            "EPOCH (228/300) -  MSE: 56.19397\n",
            "EPOCH (229/300) -  MSE: 57.39604\n",
            "EPOCH (230/300) -  MSE: 56.048073\n",
            "EPOCH (231/300) -  MSE: 57.245857\n",
            "EPOCH (232/300) -  MSE: 55.904366\n",
            "EPOCH (233/300) -  MSE: 57.097893\n",
            "EPOCH (234/300) -  MSE: 55.762802\n",
            "EPOCH (235/300) -  MSE: 56.952106\n",
            "EPOCH (236/300) -  MSE: 55.623337\n",
            "EPOCH (237/300) -  MSE: 56.80846\n",
            "EPOCH (238/300) -  MSE: 55.485924\n",
            "EPOCH (239/300) -  MSE: 56.6669\n",
            "EPOCH (240/300) -  MSE: 55.350506\n",
            "EPOCH (241/300) -  MSE: 56.527386\n",
            "EPOCH (242/300) -  MSE: 55.21705\n",
            "EPOCH (243/300) -  MSE: 56.389877\n",
            "EPOCH (244/300) -  MSE: 55.085518\n",
            "EPOCH (245/300) -  MSE: 56.25433\n",
            "EPOCH (246/300) -  MSE: 54.955856\n",
            "EPOCH (247/300) -  MSE: 56.120712\n",
            "EPOCH (248/300) -  MSE: 54.828033\n",
            "EPOCH (249/300) -  MSE: 55.988983\n",
            "EPOCH (250/300) -  MSE: 54.702\n",
            "EPOCH (251/300) -  MSE: 55.8591\n",
            "EPOCH (252/300) -  MSE: 54.57772\n",
            "EPOCH (253/300) -  MSE: 55.731045\n",
            "EPOCH (254/300) -  MSE: 54.45517\n",
            "EPOCH (255/300) -  MSE: 55.604767\n",
            "EPOCH (256/300) -  MSE: 54.334297\n",
            "EPOCH (257/300) -  MSE: 55.480244\n",
            "EPOCH (258/300) -  MSE: 54.215073\n",
            "EPOCH (259/300) -  MSE: 55.357445\n",
            "EPOCH (260/300) -  MSE: 54.097466\n",
            "EPOCH (261/300) -  MSE: 55.23632\n",
            "EPOCH (262/300) -  MSE: 53.98143\n",
            "EPOCH (263/300) -  MSE: 55.11685\n",
            "EPOCH (264/300) -  MSE: 53.866943\n",
            "EPOCH (265/300) -  MSE: 54.999016\n",
            "EPOCH (266/300) -  MSE: 53.75396\n",
            "EPOCH (267/300) -  MSE: 54.88278\n",
            "EPOCH (268/300) -  MSE: 53.642464\n",
            "EPOCH (269/300) -  MSE: 54.768105\n",
            "EPOCH (270/300) -  MSE: 53.53241\n",
            "EPOCH (271/300) -  MSE: 54.654976\n",
            "EPOCH (272/300) -  MSE: 53.423782\n",
            "EPOCH (273/300) -  MSE: 54.543354\n",
            "EPOCH (274/300) -  MSE: 53.316532\n",
            "EPOCH (275/300) -  MSE: 54.433216\n",
            "EPOCH (276/300) -  MSE: 53.21064\n",
            "EPOCH (277/300) -  MSE: 54.324543\n",
            "EPOCH (278/300) -  MSE: 53.10608\n",
            "EPOCH (279/300) -  MSE: 54.217297\n",
            "EPOCH (280/300) -  MSE: 53.002808\n",
            "EPOCH (281/300) -  MSE: 54.111458\n",
            "EPOCH (282/300) -  MSE: 52.90081\n",
            "EPOCH (283/300) -  MSE: 54.006992\n",
            "EPOCH (284/300) -  MSE: 52.800053\n",
            "EPOCH (285/300) -  MSE: 53.903885\n",
            "EPOCH (286/300) -  MSE: 52.700512\n",
            "EPOCH (287/300) -  MSE: 53.80211\n",
            "EPOCH (288/300) -  MSE: 52.602154\n",
            "EPOCH (289/300) -  MSE: 53.70163\n",
            "EPOCH (290/300) -  MSE: 52.504955\n",
            "EPOCH (291/300) -  MSE: 53.60244\n",
            "EPOCH (292/300) -  MSE: 52.408897\n",
            "EPOCH (293/300) -  MSE: 53.504498\n",
            "EPOCH (294/300) -  MSE: 52.313934\n",
            "EPOCH (295/300) -  MSE: 53.407784\n",
            "EPOCH (296/300) -  MSE: 52.220062\n",
            "EPOCH (297/300) -  MSE: 53.31228\n",
            "EPOCH (298/300) -  MSE: 52.127235\n",
            "EPOCH (299/300) -  MSE: 53.21795\n"
          ],
          "name": "stdout"
        },
        {
          "output_type": "display_data",
          "data": {
            "image/png": "[encoded data removed]",
            "text/plain": [
              "<Figure size 432x288 with 1 Axes>"
            ]
          },
          "metadata": {
            "tags": [],
            "needs_background": "light"
          }
        }
      ]
    },
    {
      "cell_type": "markdown",
      "metadata": {
        "id": "yHDdDdLWywSR"
      },
      "source": [
        "# VERIFICATION DE L'APPRENTISSAGE"
      ]
    },
    {
      "cell_type": "code",
      "metadata": {
        "id": "dtnuFIS9ytAv"
      },
      "source": [
        "#Les probabilités de chaque classe 'Mine' ou 'rocher' issues de l'apprentissage sont stockée dans le modèle.\n",
        "#A l'aide de tf.argmax, on récupére les indexs des probabilités les plus elevées pour chaque observations\n",
        "#Ex: Si pour une observation nous avons [0.56, 0.89] renverra 1 car la valeur la plus élevée se trouve à l'index 1\n",
        "#Ex : Si pour une observation nous avons [0.90, 0.34 ]  renverra 0 car la valeur la plus élevée se trouve à l'index 0\n",
        "classifications = tf.argmax(reseau, 1)\n",
        "\n",
        "#Dans le tableau des valeurs réelles :\n",
        "#Les mines sont encodées comme suit [1,0] l'index ayant la plus grande valeur est 0\n",
        "#Les rochers ont pour valeur [0,1] sl'index ayant la plus grande valeur est 1\n",
        "\n",
        "#Si la classification est de [0.90, 0.34 ] l'index ayant la plus grande valeur est 0\n",
        "#Si c'est une mine [1,0] l'index ayant la plus grande valeur est 0\n",
        "#Si les deux index sont identiques alors on peut affirmer que c'est une bonne classification\n",
        "formule_calcul_bonnes_classifications = tf.equal(classifications, tf.argmax(tf_valeurs_reelles_Y,1))\n",
        "\n",
        "\n",
        "#La précision se calcul en faisant la moyenne (tf.mean)\n",
        "# des bonnes classifications (aprés les avoir converties en décimale tf.cast, tf.float32)\n",
        "formule_precision = tf.reduce_mean(tf.cast(formule_calcul_bonnes_classifications, tf.float32))"
      ],
      "execution_count": 11,
      "outputs": []
    },
    {
      "cell_type": "markdown",
      "metadata": {
        "id": "6Q30csICy0g_"
      },
      "source": [
        "# PRECISION SUR LES DONNEES DE TESTS"
      ]
    },
    {
      "cell_type": "code",
      "metadata": {
        "colab": {
          "base_uri": "https://localhost:8080/"
        },
        "id": "1Ij2SlwDy3z3",
        "outputId": "88113995-e143-4ae1-be76-0e17f77389aa"
      },
      "source": [
        "nb_classifications = 0;\n",
        "nb_bonnes_classifications = 0\n",
        "\n",
        "#On parcours l'ensemble des données de test (text_x)\n",
        "for i in range(0,test_x.shape[0]):\n",
        "\n",
        "    #On récupere les informations\n",
        "    donneesSonar = test_x[i].reshape(1,60)\n",
        "    classificationAttendue = test_y[i].reshape(1,2)\n",
        "\n",
        "    # On réalise la classification\n",
        "    prediction_run = session.run(classifications, feed_dict={tf_neurones_entrees_X:donneesSonar})\n",
        "\n",
        "    #On calcule la précision de la classification à l'aide de la formule établie auparavant\n",
        "    accuracy_run = session.run(formule_precision, feed_dict={tf_neurones_entrees_X:donneesSonar, tf_valeurs_reelles_Y:classificationAttendue})\n",
        "\n",
        "\n",
        "    #On affiche pour observation la classe originale et la classification réalisée\n",
        "    print(i,\"Classe attendue: \", int(session.run(tf_valeurs_reelles_Y[i][1],feed_dict={tf_valeurs_reelles_Y:test_y})), \" Classification: \", prediction_run[0] )\n",
        "\n",
        "    nb_classifications = nb_classifications+1\n",
        "    if(accuracy_run*100 ==100):\n",
        "        nb_bonnes_classifications = nb_bonnes_classifications+1\n",
        "\n",
        "\n",
        "print(\"-------------\")\n",
        "print(\"Précision sur les donnees de tests = \"+str((nb_bonnes_classifications/nb_classifications)*100)+\"%\")"
      ],
      "execution_count": 12,
      "outputs": [
        {
          "output_type": "stream",
          "text": [
            "0 Classe attendue:  1  Classification:  1\n",
            "1 Classe attendue:  0  Classification:  0\n",
            "2 Classe attendue:  1  Classification:  1\n",
            "3 Classe attendue:  1  Classification:  0\n",
            "4 Classe attendue:  0  Classification:  0\n",
            "5 Classe attendue:  1  Classification:  1\n",
            "6 Classe attendue:  0  Classification:  0\n",
            "7 Classe attendue:  1  Classification:  0\n",
            "8 Classe attendue:  1  Classification:  0\n",
            "9 Classe attendue:  0  Classification:  0\n",
            "10 Classe attendue:  0  Classification:  0\n",
            "11 Classe attendue:  0  Classification:  0\n",
            "12 Classe attendue:  0  Classification:  0\n",
            "13 Classe attendue:  0  Classification:  0\n",
            "14 Classe attendue:  0  Classification:  0\n",
            "-------------\n",
            "Précision sur les donnees de tests = 80.0%\n"
          ],
          "name": "stdout"
        }
      ]
    },
    {
      "cell_type": "markdown",
      "metadata": {
        "id": "0O_4Z8nyy9eJ"
      },
      "source": [
        "# PRECISION SUR LES DONNEES D'APPRENTISSAGE"
      ]
    },
    {
      "cell_type": "code",
      "metadata": {
        "colab": {
          "base_uri": "https://localhost:8080/"
        },
        "id": "hL1ZW-Qxy7yU",
        "outputId": "eb1e7f5e-58b3-4424-f75e-6cd73d3a459c"
      },
      "source": [
        "nb_classifications = 0;\n",
        "nb_bonnes_classifications = 0\n",
        "for i in range(0,train_x.shape[0]):\n",
        "\n",
        "    # On récupere les informations\n",
        "    donneesSonar = train_x[i].reshape(1, 60)\n",
        "    classificationAttendue = train_y[i].reshape(1, 2)\n",
        "\n",
        "    # On réalise la classification\n",
        "    prediction_run = session.run(classifications, feed_dict={tf_neurones_entrees_X: donneesSonar})\n",
        "\n",
        "    # On calcule la précision de la classification à l'aide de la formule établie auparavant\n",
        "    accuracy_run = session.run(formule_precision, feed_dict={tf_neurones_entrees_X: donneesSonar, tf_valeurs_reelles_Y: classificationAttendue})\n",
        "\n",
        "    nb_classifications = nb_classifications + 1\n",
        "    if (accuracy_run * 100 == 100):\n",
        "        nb_bonnes_classifications = nb_bonnes_classifications + 1\n",
        "\n",
        "\n",
        "print(\"Précision sur les donnees d'apprentissage = \" + str((nb_bonnes_classifications / nb_classifications) * 100) + \"%\")"
      ],
      "execution_count": 13,
      "outputs": [
        {
          "output_type": "stream",
          "text": [
            "Précision sur les donnees d'apprentissage = 79.6875%\n"
          ],
          "name": "stdout"
        }
      ]
    },
    {
      "cell_type": "markdown",
      "metadata": {
        "id": "dv3UC3AVzAs2"
      },
      "source": [
        "# PRECISION SUR L'ENSEMBLE DES DONNEES"
      ]
    },
    {
      "cell_type": "code",
      "metadata": {
        "colab": {
          "base_uri": "https://localhost:8080/"
        },
        "id": "3KKxc_s6zFGw",
        "outputId": "0e6e78e7-64cd-4e1e-c74f-e51b2027a262"
      },
      "source": [
        "\n",
        "nb_classifications = 0;\n",
        "nb_bonnes_classifications = 0\n",
        "for i in range(0,207):\n",
        "\n",
        "    prediction_run = session.run(classifications, feed_dict={tf_neurones_entrees_X:X[i].reshape(1,60)})\n",
        "    accuracy_run = session.run(formule_precision, feed_dict={tf_neurones_entrees_X:X[i].reshape(1,60), tf_valeurs_reelles_Y:Y[i].reshape(1,2)})\n",
        "\n",
        "    nb_classifications = nb_classifications + 1\n",
        "    if (accuracy_run * 100 == 100):\n",
        "        nb_bonnes_classifications = nb_bonnes_classifications + 1\n",
        "\n",
        "\n",
        "print(\"Précision sur l'ensemble des données = \" + str((nb_bonnes_classifications / nb_classifications) * 100) + \"%\")\n",
        "\n",
        "\n",
        "\n",
        "\n",
        "session.close()"
      ],
      "execution_count": 14,
      "outputs": [
        {
          "output_type": "stream",
          "text": [
            "Précision sur l'ensemble des données = 79.71014492753623%\n"
          ],
          "name": "stdout"
        }
      ]
    }
  ]
}